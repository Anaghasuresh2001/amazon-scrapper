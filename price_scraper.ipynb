{
 "metadata": {
  "language_info": {
   "codemirror_mode": {
    "name": "ipython",
    "version": 3
   },
   "file_extension": ".py",
   "mimetype": "text/x-python",
   "name": "python",
   "nbconvert_exporter": "python",
   "pygments_lexer": "ipython3",
   "version": "3.7.7-final"
  },
  "orig_nbformat": 2,
  "kernelspec": {
   "name": "python_defaultSpec_1598713249369",
   "display_name": "Python 3.7.7 64-bit ('fishbowl': conda)"
  }
 },
 "nbformat": 4,
 "nbformat_minor": 2,
 "cells": [
  {
   "cell_type": "markdown",
   "metadata": {},
   "source": [
    "# Scraper to Monitor Amazon Prices"
   ]
  },
  {
   "cell_type": "code",
   "execution_count": 1,
   "metadata": {},
   "outputs": [],
   "source": [
    "import csv\n",
    "from datetime import datetime\n",
    "from bs4 import BeautifulSoup\n",
    "from msedge.selenium_tools import Edge, EdgeOptions"
   ]
  },
  {
   "cell_type": "code",
   "execution_count": 7,
   "metadata": {},
   "outputs": [],
   "source": [
    "def scrape_page(raw_html):\n",
    "    \"\"\"Scrape results from page\"\"\"\n",
    "    results = []\n",
    "    soup = BeautifulSoup(raw_html, 'lxml')\n",
    "\n",
    "    # get the next navigation page\n",
    "    try:\n",
    "        next_page = 'https://www.amazon.com' + soup.find('li', 'a-last').a.get('href')\n",
    "    except AttributeError:\n",
    "        next_page = None\n",
    "\n",
    "    items = soup.find_all('div', 's-result-item')\n",
    "    for row in items:\n",
    "        try:\n",
    "            item_desc = row.find('span', 'a-size-medium').text.strip()\n",
    "        except AttributeError:\n",
    "            continue\n",
    "        try:\n",
    "            rating = row.find('span', 'a-icon-alt').text\n",
    "            # filter out sponsored ads\n",
    "            if 'sponsored' in rating.lower():\n",
    "                continue\n",
    "        except AttributeError:\n",
    "            rating = ''\n",
    "        try:\n",
    "            review_count = row.find('span', {'class': 'a-size-base', 'dir': 'auto'}).text\n",
    "            try:\n",
    "                # sometimes this picks up coupons... this will filter that out.\n",
    "                int(review_count)\n",
    "            except ValueError:\n",
    "                review_count = 0\n",
    "        except AttributeError:\n",
    "            review_count = ''\n",
    "        try:\n",
    "            price = row.find('span', 'a-price').span.text\n",
    "            item_price = float(price.replace('$','').replace(',',''))\n",
    "        except AttributeError:\n",
    "            continue\n",
    "        item_link = 'https://www.amazon.com' + row.find('a', 'a-link-normal').get('href')\n",
    "        img_url = row.img['src']\n",
    "        result = {\n",
    "            'item_desc': item_desc,\n",
    "            'rating': rating,\n",
    "            'review_count': review_count,\n",
    "            'item_price': item_price,\n",
    "            'item_link': item_link,\n",
    "            'img_url': img_url,\n",
    "        }\n",
    "        if result:\n",
    "            results.append(result)\n",
    "\n",
    "    return results, next_page\n",
    "\n",
    "def get_search_url(term):\n",
    "    \"\"\"Generate a url based on the search term\"\"\"\n",
    "    adjusted_term = term.replace(' ', '+')\n",
    "    base = \"https://www.amazon.com/s?k={}&ref=nb_sb_noss_2\"\n",
    "    return base.format(adjusted_term)"
   ]
  },
  {
   "cell_type": "code",
   "execution_count": 4,
   "metadata": {},
   "outputs": [],
   "source": [
    "# Launch Microsoft Edge (Chromium)\n",
    "options = EdgeOptions()\n",
    "options.use_chromium = True\n",
    "options.add_argument('-headless')\n",
    "options.add_argument('-disable-gpu')\n",
    "driver = Edge(options = options)\n",
    "\n",
    "# save search results\n",
    "search_results = []\n",
    "search_term = 'ultrawide monitor'\n",
    "url = get_search_url(search_term)\n",
    "\n",
    "# initial page results\n",
    "driver.get(url)\n",
    "results, next_page = scrape_page(driver.page_source)\n",
    "search_results.extend(results)\n",
    "\n",
    "# get remaining results\n",
    "while True:\n",
    "    if not next_page:\n",
    "        driver.close()\n",
    "        break\n",
    "    else:\n",
    "        driver.get(next_page)\n",
    "        results, next_page = scrape_page(driver.page_source)\n",
    "        search_results.extend(results)"
   ]
  },
  {
   "cell_type": "code",
   "execution_count": 5,
   "metadata": {},
   "outputs": [],
   "source": [
    "# save_results\n",
    "field_names = list(search_results[0].keys())\n",
    "\n",
    "filename = 'search_results_' + datetime.today().strftime('%Y%m%d') + '.csv'\n",
    "\n",
    "with open(filename, mode='w', newline='', encoding='utf-8') as f:\n",
    "    dictwriter = csv.DictWriter(f, fieldnames=field_names)\n",
    "    dictwriter.writeheader()\n",
    "    dictwriter.writerows(search_results)"
   ]
  },
  {
   "cell_type": "code",
   "execution_count": 6,
   "metadata": {
    "tags": []
   },
   "outputs": [
    {
     "output_type": "stream",
     "name": "stdout",
     "text": "item_desc -- Deco Gear 35\" Curved Ultrawide LED Gaming Monitor 21:9 Aspect Ratio, Crisp 2560 x 1080 Resolution, 16.7 Million Colors, 75 HZ Refresh Rate, 2000:1 Contrast Ratio, (HDMI, DVI, and DP Connections)\nrating -- 4.6 out of 5 stars\nreview_count -- 103\nitem_price -- 319.99\nitem_link -- https://www.amazon.com/gp/slredirect/picassoRedirect.html/ref=pa_sp_atf_aps_sr_pg1_1?ie=UTF8&adId=A08509659VO79UAH3ZGM&url=%2FDeco-Gear-Curved-Ultrawide-Monitor%2Fdp%2FB07NPT78C6%2Fref%3Dsr_1_1_sspa%3Fdchild%3D1%26keywords%3Dultrawide%2Bmonitor%26qid%3D1598713294%26sr%3D8-1-spons%26psc%3D1&qualifier=1598713294&id=6766989571022690&widgetName=sp_atf\nimg_url -- https://m.media-amazon.com/images/I/61gBigSCEWL._AC_UY218_.jpg\n"
    }
   ],
   "source": [
    "for key, value in search_results[0].items():\n",
    "    print(key, '--', value)"
   ]
  }
 ]
}